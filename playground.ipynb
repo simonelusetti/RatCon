{
 "cells": [
  {
   "cell_type": "code",
   "execution_count": null,
   "id": "c2309325",
   "metadata": {},
   "outputs": [],
   "source": [
    "import datasets\n",
    "\n",
    "path = f\"./data/{cnn}_{article}_{train}.pt\"\n",
    "\n",
    "ds = load_from_disk(path)\n",
    "\n",
    "ds = ds.select(int(len(ds) * 0.1))\n",
    "\n",
    "\n",
    "ds.save_to_disk(path)\n",
    "\n",
    "   \n"
   ]
  }
 ],
 "metadata": {
  "language_info": {
   "name": "python"
  }
 },
 "nbformat": 4,
 "nbformat_minor": 5
}
